{
 "cells": [
  {
   "cell_type": "code",
   "execution_count": 60,
   "metadata": {},
   "outputs": [],
   "source": [
    "import pandas as pd\n",
    "import numpy as np\n",
    "import matplotlib.pyplot as plt\n",
    "import tensorflow as tf\n",
    "from tensorflow.keras.regularizers import L2\n",
    "from tensorflow.keras.layers import Dense, Dropout, MaxPooling2D, Conv2D, Flatten\n",
    "from tensorflow.keras.utils import to_categorical\n",
    "from tensorflow.keras.models import Sequential\n",
    "from tensorflow.keras.datasets import cifar10\n",
    "np.random.seed(7)\n"
   ]
  },
  {
   "cell_type": "code",
   "execution_count": 61,
   "metadata": {},
   "outputs": [],
   "source": [
    "(X_train, y_train), (X_test, y_test) = cifar10.load_data()"
   ]
  },
  {
   "cell_type": "markdown",
   "metadata": {},
   "source": [
    "#### 1 Loading the cifer dataset\n",
    "#### 2 Normalize the dataset to [0,1]\n",
    "#### 3 Labels are Encoded for classification"
   ]
  },
  {
   "cell_type": "code",
   "execution_count": 62,
   "metadata": {},
   "outputs": [],
   "source": [
    "X_train = X_train.astype('float32') / 255\n",
    "X_test = X_test.astype('float32') / 255\n",
    "\n",
    "y_train = to_categorical(y_train)\n",
    "y_test = to_categorical(y_test)"
   ]
  },
  {
   "cell_type": "code",
   "execution_count": 63,
   "metadata": {},
   "outputs": [
    {
     "data": {
      "text/plain": [
       "10000"
      ]
     },
     "execution_count": 63,
     "metadata": {},
     "output_type": "execute_result"
    }
   ],
   "source": [
    "y_test.shape[0]"
   ]
  },
  {
   "cell_type": "markdown",
   "metadata": {},
   "source": []
  },
  {
   "cell_type": "code",
   "execution_count": 64,
   "metadata": {},
   "outputs": [
    {
     "name": "stderr",
     "output_type": "stream",
     "text": [
      "C:\\Users\\Kaybee\\AppData\\Roaming\\Python\\Python312\\site-packages\\keras\\src\\layers\\convolutional\\base_conv.py:107: UserWarning: Do not pass an `input_shape`/`input_dim` argument to a layer. When using Sequential models, prefer using an `Input(shape)` object as the first layer in the model instead.\n",
      "  super().__init__(activity_regularizer=activity_regularizer, **kwargs)\n"
     ]
    }
   ],
   "source": [
    "model = Sequential()\n",
    "# convulotional layer with 32 layers, 3x3 Kernel and RelU activation function \n",
    "model.add(Conv2D(32, (3,3), input_shape = (32, 32, 3), activation= 'relu', kernel_regularizer= L2(0.001) ) )\n",
    "# Pooling reduces spatial dimensions by a factor of 2\n",
    "model.add(MaxPooling2D(pool_size=(2,2)))\n",
    "# Dropout randomly drops 25% of the neurons during training\n",
    "model.add(Dropout(0.25))"
   ]
  },
  {
   "cell_type": "markdown",
   "metadata": {},
   "source": [
    "#### Another Convolutional layer with 64 filter"
   ]
  },
  {
   "cell_type": "code",
   "execution_count": 65,
   "metadata": {},
   "outputs": [],
   "source": [
    "# Second Layer\n",
    "model.add(Conv2D(64,(3,3), activation= 'relu', kernel_regularizer= L2(0.001)))\n",
    "model.add(MaxPooling2D(pool_size= (2,2)))\n",
    "model.add(Dropout(0.25))"
   ]
  },
  {
   "cell_type": "code",
   "execution_count": 68,
   "metadata": {},
   "outputs": [],
   "source": [
    "#  Flatten the layer from 2D output to 1D for fully connected layers\n",
    "model.add(Flatten())\n",
    "model.add(Dense(512, activation='relu', kernel_regularizer= L2(0.001)))\n",
    "model.add(Dropout(0.5))\n"
   ]
  },
  {
   "cell_type": "code",
   "execution_count": 70,
   "metadata": {},
   "outputs": [],
   "source": [
    "#  output layer has num_classes neurons(10 for cifar-10), with softmax activation for multiclass classification\n",
    "# softmax activation function is used for multi-class classification, the softmax ensures that the output values are in the range [0,1] and their sum is 1.\n",
    "num_classes = 10\n",
    "model.add(Dense(num_classes, activation = 'softmax'))\n",
    "model.compile(loss='categorical_crossentropy', optimizer='Adam', metrics=['accuracy'])"
   ]
  },
  {
   "cell_type": "markdown",
   "metadata": {},
   "source": [
    "#### Training and Evaluation"
   ]
  },
  {
   "cell_type": "code",
   "execution_count": 71,
   "metadata": {},
   "outputs": [
    {
     "name": "stdout",
     "output_type": "stream",
     "text": [
      "Epoch 1/10\n",
      "782/782 - 70s - 90ms/step - accuracy: 0.2233 - loss: 2.1399 - val_accuracy: 0.2444 - val_loss: 1.9710\n",
      "Epoch 2/10\n",
      "782/782 - 44s - 56ms/step - accuracy: 0.2499 - loss: 1.9444 - val_accuracy: 0.2688 - val_loss: 1.8693\n",
      "Epoch 3/10\n",
      "782/782 - 40s - 51ms/step - accuracy: 0.2672 - loss: 1.8700 - val_accuracy: 0.2870 - val_loss: 1.8216\n",
      "Epoch 4/10\n",
      "782/782 - 42s - 54ms/step - accuracy: 0.2860 - loss: 1.8250 - val_accuracy: 0.2955 - val_loss: 1.7742\n",
      "Epoch 5/10\n",
      "782/782 - 44s - 56ms/step - accuracy: 0.3025 - loss: 1.7925 - val_accuracy: 0.3149 - val_loss: 1.7666\n",
      "Epoch 6/10\n",
      "782/782 - 41s - 53ms/step - accuracy: 0.3269 - loss: 1.7527 - val_accuracy: 0.3512 - val_loss: 1.7008\n",
      "Epoch 7/10\n",
      "782/782 - 40s - 51ms/step - accuracy: 0.3416 - loss: 1.7279 - val_accuracy: 0.3627 - val_loss: 1.6893\n",
      "Epoch 8/10\n",
      "782/782 - 40s - 51ms/step - accuracy: 0.3565 - loss: 1.7070 - val_accuracy: 0.3663 - val_loss: 1.6909\n",
      "Epoch 9/10\n",
      "782/782 - 39s - 50ms/step - accuracy: 0.3691 - loss: 1.6902 - val_accuracy: 0.3961 - val_loss: 1.6323\n",
      "Epoch 10/10\n",
      "782/782 - 40s - 51ms/step - accuracy: 0.3807 - loss: 1.6708 - val_accuracy: 0.3828 - val_loss: 1.6445\n"
     ]
    },
    {
     "data": {
      "text/plain": [
       "<keras.src.callbacks.history.History at 0x141bd3bbe60>"
      ]
     },
     "execution_count": 71,
     "metadata": {},
     "output_type": "execute_result"
    }
   ],
   "source": [
    "model.fit(X_train, y_train, validation_data= (X_test, y_test), epochs=10, batch_size=64, verbose=2)"
   ]
  },
  {
   "cell_type": "code",
   "execution_count": 17,
   "metadata": {},
   "outputs": [
    {
     "name": "stdout",
     "output_type": "stream",
     "text": [
      "Test loss: 1.1698113679885864\n",
      "Test Accuracy: 0.7098000049591064\n"
     ]
    }
   ],
   "source": [
    "score = model.evaluate(X_test, y_test, verbose= 0)\n",
    "print(f\"Test loss: {score[0]}\")\n",
    "print(f\"Test Accuracy: {score[1]}\")"
   ]
  },
  {
   "cell_type": "code",
   "execution_count": 11,
   "metadata": {},
   "outputs": [
    {
     "name": "stdout",
     "output_type": "stream",
     "text": [
      "\u001b[1m313/313\u001b[0m \u001b[32m━━━━━━━━━━━━━━━━━━━━\u001b[0m\u001b[37m\u001b[0m \u001b[1m3s\u001b[0m 9ms/step\n"
     ]
    }
   ],
   "source": [
    "pred = model.predict(X_test)"
   ]
  },
  {
   "cell_type": "code",
   "execution_count": 12,
   "metadata": {},
   "outputs": [
    {
     "name": "stdout",
     "output_type": "stream",
     "text": [
      "Training fold 1....\n",
      "Epoch 1/3\n",
      "1250/1250 - 57s - 46ms/step - accuracy: 0.6108 - loss: 1.4753\n",
      "Epoch 2/3\n",
      "1250/1250 - 46s - 37ms/step - accuracy: 0.6224 - loss: 1.4525\n",
      "Epoch 3/3\n",
      "1250/1250 - 46s - 37ms/step - accuracy: 0.6270 - loss: 1.4356\n",
      "Fold 1 Test loss: 1.347603678703308 /Test accuracy: 0.6590999960899353\n",
      "Training fold 2....\n",
      "Epoch 1/3\n",
      "1250/1250 - 46s - 37ms/step - accuracy: 0.6315 - loss: 1.4265\n",
      "Epoch 2/3\n",
      "1250/1250 - 45s - 36ms/step - accuracy: 0.6349 - loss: 1.4131\n",
      "Epoch 3/3\n",
      "1250/1250 - 84s - 67ms/step - accuracy: 0.6388 - loss: 1.4077\n",
      "Fold 2 Test loss: 1.3211582899093628 /Test accuracy: 0.6635000109672546\n",
      "Training fold 3....\n",
      "Epoch 1/3\n",
      "1250/1250 - 45s - 36ms/step - accuracy: 0.6362 - loss: 1.4218\n",
      "Epoch 2/3\n",
      "1250/1250 - 44s - 35ms/step - accuracy: 0.6381 - loss: 1.4120\n",
      "Epoch 3/3\n",
      "1250/1250 - 91s - 73ms/step - accuracy: 0.6424 - loss: 1.4088\n",
      "Fold 3 Test loss: 1.2982795238494873 /Test accuracy: 0.6826000213623047\n",
      "Training fold 4....\n",
      "Epoch 1/3\n",
      "1250/1250 - 49s - 39ms/step - accuracy: 0.6428 - loss: 1.4091\n",
      "Epoch 2/3\n",
      "1250/1250 - 47s - 38ms/step - accuracy: 0.6521 - loss: 1.3883\n",
      "Epoch 3/3\n",
      "1250/1250 - 86s - 69ms/step - accuracy: 0.6504 - loss: 1.3904\n",
      "Fold 4 Test loss: 1.3169586658477783 /Test accuracy: 0.6773999929428101\n",
      "Training fold 5....\n",
      "Epoch 1/3\n",
      "1250/1250 - 47s - 38ms/step - accuracy: 0.6468 - loss: 1.4048\n",
      "Epoch 2/3\n",
      "1250/1250 - 110s - 88ms/step - accuracy: 0.6488 - loss: 1.3948\n",
      "Epoch 3/3\n",
      "1250/1250 - 67s - 53ms/step - accuracy: 0.6508 - loss: 1.3941\n",
      "Fold 5 Test loss: 1.2533167600631714 /Test accuracy: 0.7010999917984009\n"
     ]
    }
   ],
   "source": [
    "from sklearn.model_selection import KFold\n",
    "import numpy as np\n",
    "kf = KFold(n_splits= 5)\n",
    "fold_no  = 1\n",
    "for train_index, val_index in kf.split(X_train):\n",
    "    print(f\"Training fold {fold_no}....\")\n",
    "    x_train_fold, x_val_fold = X_train[train_index], X_train[val_index]\n",
    "    y_train_fold, y_val_fold = y_train[train_index], y_train[val_index]\n",
    "\n",
    "    model.fit(x_train_fold, y_train_fold, epochs = 3, batch_size = 32, verbose = 2)\n",
    "    score =  model.evaluate(x_val_fold, y_val_fold, verbose = 0)\n",
    "    print(f\"Fold {fold_no} Test loss: {score[0]} /Test accuracy: {score[1]}\")\n",
    "    fold_no += 1"
   ]
  },
  {
   "cell_type": "code",
   "execution_count": 13,
   "metadata": {},
   "outputs": [
    {
     "name": "stdout",
     "output_type": "stream",
     "text": [
      "Epoch 1/3\n",
      "625/625 - 39s - 63ms/step - accuracy: 0.6816 - loss: 1.2605 - val_accuracy: 0.7184 - val_loss: 1.1360\n",
      "Epoch 2/3\n",
      "625/625 - 39s - 63ms/step - accuracy: 0.6831 - loss: 1.2291 - val_accuracy: 0.6994 - val_loss: 1.1772\n",
      "Epoch 3/3\n",
      "625/625 - 37s - 60ms/step - accuracy: 0.6819 - loss: 1.2329 - val_accuracy: 0.7208 - val_loss: 1.1515\n",
      "Test loss: 1.1514813899993896\n",
      "Test Accuracy: 0.72079998254776\n"
     ]
    }
   ],
   "source": [
    "model.fit(x_train_fold, y_train_fold, validation_data= (x_val_fold, y_val_fold), epochs=3, batch_size=64, verbose=2)\n",
    "score = model.evaluate(x_val_fold, y_val_fold, verbose= 0)\n",
    "print(f\"Test loss: {score[0]}\")\n",
    "print(f\"Test Accuracy: {score[1]}\")"
   ]
  },
  {
   "cell_type": "code",
   "execution_count": 40,
   "metadata": {},
   "outputs": [
    {
     "name": "stdout",
     "output_type": "stream",
     "text": [
      "\u001b[1m1/1\u001b[0m \u001b[32m━━━━━━━━━━━━━━━━━━━━\u001b[0m\u001b[37m\u001b[0m \u001b[1m0s\u001b[0m 72ms/step\n"
     ]
    }
   ],
   "source": [
    "predict = model.predict(x_val_fold[:10])\n",
    "\n"
   ]
  },
  {
   "cell_type": "code",
   "execution_count": 24,
   "metadata": {},
   "outputs": [
    {
     "name": "stdout",
     "output_type": "stream",
     "text": [
      "(50000, 32, 32, 3) (50000, 1) (10000, 32, 32, 3) (10000, 1)\n",
      " The number of classes: 10\n"
     ]
    }
   ],
   "source": [
    "(X_train, y_train), (X_test, y_test) = cifar10.load_data()\n",
    "print(X_train.shape, y_train.shape, X_test.shape, y_test.shape)\n",
    "from numpy import array\n",
    "df = len(np.unique(y_train))\n",
    "print(f\" The number of classes: {df}\")\n"
   ]
  },
  {
   "cell_type": "code",
   "execution_count": 32,
   "metadata": {},
   "outputs": [],
   "source": [
    "class_names = [\"airplane\",\"automobile\", \"bird\",\"cat\",\"deer\",\"dog\",\"frog\",\"horse\",\"ship\",\"truck\"]"
   ]
  },
  {
   "cell_type": "code",
   "execution_count": 55,
   "metadata": {},
   "outputs": [],
   "source": [
    "true_labels = np.argmax(y_test[:10], axis=1)\n",
    "true_labels\n",
    "sample_images = X_test[:10]\n",
    "true_label_names = [class_names[label] for label in true_labels]"
   ]
  },
  {
   "cell_type": "code",
   "execution_count": 80,
   "metadata": {},
   "outputs": [],
   "source": [
    "# def plt_images(images, labels, predictions):\n",
    "#     plt.figure(figsize= (15,10))\n",
    "#     plt.subplot(2, 10, i + 1)\n",
    "# def plt_images(images, labels, predictions , num_images = 20):\n",
    "#     plt.figure(figsize=(15,6))\n",
    "#     for i in range(0, num_images):\n",
    "#         plt.subplot(2, num_images //2, i + 1)\n",
    "#         plt.imshow(images[i], cmap= 'Blues')\n",
    "#         plt.title(f\"True: {np.argmax(labels[i])} \\nPred: {np.argmax(predictions[i])}\")\n",
    "#         plt.axis('off')\n",
    "#     plt.show()\n",
    "# def plot_images(images, labels, predictions = None):\n",
    "#     fig, axes = plt.subplots(1,10, figsize = (15,3))\n",
    "#     axes = axes.flatten()\n",
    "#     for i, ax in enumerate(axes):\n",
    "#         ax.imshow(images[i])\n",
    "#         if predictions is None:\n",
    "#             ax.set_title(f\"True: {labels[i]}\")\n",
    "#         else:\n",
    "#             ax.set_title(f\"True: {labels[i]}\\nPred: {predictions[i]}\")\n",
    "#         ax.axis(\"off\")\n",
    "#         plt.tight_layout()\n",
    "#         plt.show()"
   ]
  },
  {
   "cell_type": "code",
   "execution_count": null,
   "metadata": {},
   "outputs": [],
   "source": [
    "# plot_images(images= sample_images, labels= true_label_names)"
   ]
  },
  {
   "cell_type": "code",
   "execution_count": 83,
   "metadata": {},
   "outputs": [
    {
     "name": "stdout",
     "output_type": "stream",
     "text": [
      "\u001b[1m313/313\u001b[0m \u001b[32m━━━━━━━━━━━━━━━━━━━━\u001b[0m\u001b[37m\u001b[0m \u001b[1m3s\u001b[0m 8ms/step\n",
      "\u001b[1m313/313\u001b[0m \u001b[32m━━━━━━━━━━━━━━━━━━━━\u001b[0m\u001b[37m\u001b[0m \u001b[1m2s\u001b[0m 7ms/step\n"
     ]
    },
    {
     "ename": "ValueError",
     "evalue": "The truth value of an array with more than one element is ambiguous. Use a.any() or a.all()",
     "output_type": "error",
     "traceback": [
      "\u001b[1;31m---------------------------------------------------------------------------\u001b[0m",
      "\u001b[1;31mValueError\u001b[0m                                Traceback (most recent call last)",
      "Cell \u001b[1;32mIn[83], line 95\u001b[0m\n\u001b[0;32m     93\u001b[0m \u001b[38;5;28;01mfor\u001b[39;00m i \u001b[38;5;129;01min\u001b[39;00m \u001b[38;5;28mrange\u001b[39m(num_images):\n\u001b[0;32m     94\u001b[0m     plt\u001b[38;5;241m.\u001b[39msubplot(num_rows, \u001b[38;5;241m2\u001b[39m \u001b[38;5;241m*\u001b[39m num_cols, \u001b[38;5;241m2\u001b[39m \u001b[38;5;241m*\u001b[39m i \u001b[38;5;241m+\u001b[39m \u001b[38;5;241m1\u001b[39m)\n\u001b[1;32m---> 95\u001b[0m     \u001b[43mplot_image\u001b[49m\u001b[43m(\u001b[49m\u001b[43mi\u001b[49m\u001b[43m,\u001b[49m\u001b[43m \u001b[49m\u001b[43mpredictions\u001b[49m\u001b[43m,\u001b[49m\u001b[43m \u001b[49m\u001b[43my_test\u001b[49m\u001b[43m,\u001b[49m\u001b[43m \u001b[49m\u001b[43mX_test\u001b[49m\u001b[43m)\u001b[49m\n\u001b[0;32m     96\u001b[0m     plt\u001b[38;5;241m.\u001b[39msubplot(num_rows, \u001b[38;5;241m2\u001b[39m \u001b[38;5;241m*\u001b[39m num_cols, \u001b[38;5;241m2\u001b[39m \u001b[38;5;241m*\u001b[39m i \u001b[38;5;241m+\u001b[39m \u001b[38;5;241m2\u001b[39m)\n\u001b[0;32m     97\u001b[0m     plot_value_array(i, predictions, y_test)\n",
      "Cell \u001b[1;32mIn[83], line 66\u001b[0m, in \u001b[0;36mplot_image\u001b[1;34m(i, predictions_array, true_labels, img)\u001b[0m\n\u001b[0;32m     63\u001b[0m plt\u001b[38;5;241m.\u001b[39mimshow(img, cmap\u001b[38;5;241m=\u001b[39mplt\u001b[38;5;241m.\u001b[39mcm\u001b[38;5;241m.\u001b[39mbinary)\n\u001b[0;32m     65\u001b[0m predicted_label \u001b[38;5;241m=\u001b[39m np\u001b[38;5;241m.\u001b[39margmax(predictions_array)\n\u001b[1;32m---> 66\u001b[0m \u001b[38;5;28;01mif\u001b[39;00m predicted_label \u001b[38;5;241m==\u001b[39m true_label:\n\u001b[0;32m     67\u001b[0m     color \u001b[38;5;241m=\u001b[39m \u001b[38;5;124m'\u001b[39m\u001b[38;5;124mblue\u001b[39m\u001b[38;5;124m'\u001b[39m\n\u001b[0;32m     68\u001b[0m \u001b[38;5;28;01melse\u001b[39;00m:\n",
      "\u001b[1;31mValueError\u001b[0m: The truth value of an array with more than one element is ambiguous. Use a.any() or a.all()"
     ]
    },
    {
     "data": {
      "image/png": "[encoded data removed]",
      "text/plain": [
       "<Figure size 1200x1000 with 1 Axes>"
      ]
     },
     "metadata": {},
     "output_type": "display_data"
    }
   ],
   "source": [
    "predictions = model.predict(test_images)\n",
    "\n",
    "class_names = ['airplane', 'automobile', 'bird', 'cat', 'deer', 'dog', 'frog', 'horse', 'ship', 'truck']\n",
    "\n",
    "\n",
    "# Function to plot predictions\n",
    "def plot_image(i, predictions_array, true_label, img):\n",
    "    predictions_array, true_label, img = predictions_array[i], true_label[i], img[i]\n",
    "    plt.grid(False)\n",
    "    plt.xticks([])\n",
    "    plt.yticks([])\n",
    "\n",
    "    plt.imshow(img, cmap=plt.cm.binary)\n",
    "\n",
    "    predicted_label = np.argmax(predictions_array)\n",
    "    if predicted_label == true_label:\n",
    "        color = 'blue'\n",
    "    else:\n",
    "        color = 'red'\n",
    "\n",
    "    plt.xlabel(\"{} {:2.0f}% ({})\".format(class_names[predicted_label],\n",
    "                                  100*np.max(predictions_array),\n",
    "                                  class_names[true_label[0]]),\n",
    "                                  color=color)\n",
    "\n",
    "def plot_value_array(i, predictions_array, true_label):\n",
    "    predictions_array, true_label = predictions_array[i], true_label[i]\n",
    "    plt.grid(False)\n",
    "    plt.xticks(range(10))\n",
    "    plt.yticks([])\n",
    "    thisplot = plt.bar(range(10), predictions_array, color=\"#777777\")\n",
    "    plt.ylim([0, 1])\n",
    "    predicted_label = np.argmax(predictions_array)\n",
    "\n",
    "    thisplot[predicted_label].set_color('red')\n",
    "    thisplot[true_label[0]].set_color('blue')\n",
    "\n",
    "# Plot the first 15 test images, their predicted label, and the true label\n",
    "num_rows = 5\n",
    "num_cols = 3\n",
    "num_images = num_rows*num_cols\n",
    "plt.figure(figsize=(2*2*num_cols, 2*num_rows))\n",
    "for i in range(num_images):\n",
    "    plt.subplot(num_rows, 2*num_cols, 2*i+1)\n",
    "    plot_image(i, predictions, test_labels, test_images)\n",
    "    plt.subplot(num_rows, 2*num_cols, 2*i+2)\n",
    "    plot_value_array(i, predictions, test_labels)\n",
    "plt.tight_layout()\n",
    "plt.show()\n"
   ]
  },
  {
   "cell_type": "code",
   "execution_count": 77,
   "metadata": {},
   "outputs": [
    {
     "name": "stdout",
     "output_type": "stream",
     "text": [
      "\u001b[1m1/1\u001b[0m \u001b[32m━━━━━━━━━━━━━━━━━━━━\u001b[0m\u001b[37m\u001b[0m \u001b[1m0s\u001b[0m 34ms/step\n"
     ]
    }
   ],
   "source": [
    "\n",
    "def plot_images(images, labels, predictions):\n",
    "    fig, axes = plt.subplots(1,10, figsize = (15,3))\n",
    "    axes = axes.flatten()\n",
    "    for i, ax in enumerate(axes):\n",
    "        ax.imshow(images[i])\n",
    "        if predictions is None:\n",
    "            ax.set_title(f\"True: {labels[i]}\")\n",
    "        else:\n",
    "            ax.set_title(f\"True: {labels[i]}\\nPred: {predictions[i]}\")\n",
    "        ax.axis(\"off\")\n",
    "        plt.tight_layout()\n",
    "        plt.show()\n",
    "predictions =model.predict(x_val_fold[:10])\n",
    "predicted_labels = [class_names[np.argmax(pred)] for pred in predictions]"
   ]
  },
  {
   "cell_type": "code",
   "execution_count": 78,
   "metadata": {},
   "outputs": [
    {
     "data": {
      "image/png": "[encoded data removed]",
      "text/plain": [
       "<Figure size 1500x300 with 10 Axes>"
      ]
     },
     "metadata": {},
     "output_type": "display_data"
    },
    {
     "data": {
      "text/plain": [
       "<Figure size 640x480 with 0 Axes>"
      ]
     },
     "metadata": {},
     "output_type": "display_data"
    },
    {
     "data": {
      "text/plain": [
       "<Figure size 640x480 with 0 Axes>"
      ]
     },
     "metadata": {},
     "output_type": "display_data"
    },
    {
     "data": {
      "text/plain": [
       "<Figure size 640x480 with 0 Axes>"
      ]
     },
     "metadata": {},
     "output_type": "display_data"
    },
    {
     "data": {
      "text/plain": [
       "<Figure size 640x480 with 0 Axes>"
      ]
     },
     "metadata": {},
     "output_type": "display_data"
    },
    {
     "data": {
      "text/plain": [
       "<Figure size 640x480 with 0 Axes>"
      ]
     },
     "metadata": {},
     "output_type": "display_data"
    },
    {
     "data": {
      "text/plain": [
       "<Figure size 640x480 with 0 Axes>"
      ]
     },
     "metadata": {},
     "output_type": "display_data"
    },
    {
     "data": {
      "text/plain": [
       "<Figure size 640x480 with 0 Axes>"
      ]
     },
     "metadata": {},
     "output_type": "display_data"
    },
    {
     "data": {
      "text/plain": [
       "<Figure size 640x480 with 0 Axes>"
      ]
     },
     "metadata": {},
     "output_type": "display_data"
    },
    {
     "data": {
      "text/plain": [
       "<Figure size 640x480 with 0 Axes>"
      ]
     },
     "metadata": {},
     "output_type": "display_data"
    }
   ],
   "source": [
    "plot_images(sample_images, true_label_names, predicted_labels)"
   ]
  },
  {
   "cell_type": "markdown",
   "metadata": {},
   "source": [
    "plt_images(sample_images, true)"
   ]
  }
 ],
 "metadata": {
  "kernelspec": {
   "display_name": "Python 3",
   "language": "python",
   "name": "python3"
  },
  "language_info": {
   "codemirror_mode": {
    "name": "ipython",
    "version": 3
   },
   "file_extension": ".py",
   "mimetype": "text/x-python",
   "name": "python",
   "nbconvert_exporter": "python",
   "pygments_lexer": "ipython3",
   "version": "3.12.2"
  }
 },
 "nbformat": 4,
 "nbformat_minor": 2
}
